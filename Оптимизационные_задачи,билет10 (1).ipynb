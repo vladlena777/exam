{
 "cells": [
  {
   "cell_type": "code",
   "execution_count": 1,
   "id": "16833876",
   "metadata": {},
   "outputs": [],
   "source": [
    "# создаем произвольный набор данных.\n",
    "samples = 10\n",
    "features = 20 "
   ]
  },
  {
   "cell_type": "code",
   "execution_count": 6,
   "id": "5054c0e9",
   "metadata": {},
   "outputs": [],
   "source": [
    "import numpy as np\n",
    "from sklearn.datasets import make_classification,make_regression"
   ]
  },
  {
   "cell_type": "code",
   "execution_count": 7,
   "id": "b8d54d4b",
   "metadata": {},
   "outputs": [],
   "source": [
    "X = make_regression(n_samples=samples, n_features=features,\n",
    "                    n_informative=np.random.randint(1,features+1),\n",
    "                    n_targets=0)[0]\n",
    "a = np.random.rand(features)+np.random.randint(-20,20,size = features)\n",
    "b = np.random.rand()+np.random.randint(20)\n",
    "m,s = 0,3\n",
    "c = np.sqrt(s)\n",
    "norm = np.random.normal(loc = m,scale = c,size = X.shape[0])"
   ]
  },
  {
   "cell_type": "code",
   "execution_count": 13,
   "id": "64fd3417",
   "metadata": {},
   "outputs": [],
   "source": [
    "# создаем зависимую переменную\n",
    "y = X@a + b + norm"
   ]
  },
  {
   "cell_type": "code",
   "execution_count": 9,
   "id": "1b67cb94",
   "metadata": {},
   "outputs": [],
   "source": [
    "def inputzolotoe():\n",
    "   \n",
    "    param = input('Введите название переменной ')\n",
    "    if len(param) > 1:\n",
    "        print('Введено более одной переменной')\n",
    "    elif len(param) < 1:\n",
    "        print('Введено менее одной прееменной')\n",
    "    f = input('Функция в аналитическом виде :  ')\n",
    "    a = input('Введите \"a\": ')\n",
    "    b = input('Введите \"b\": ')\n",
    "\n",
    " \n",
    "    Final = {'p1': param,\n",
    "             'func': f,\n",
    "             'a': a,\n",
    "             'b': b}\n",
    "    return Final"
   ]
  },
  {
   "cell_type": "code",
   "execution_count": 10,
   "id": "30ff2e71",
   "metadata": {},
   "outputs": [],
   "source": [
    "def zolotoe(data):\n",
    "    import time \n",
    "    import numpy as np\n",
    "    import sympy\n",
    "    from matplotlib import pyplot as plt   \n",
    "    from matplotlib import style   \n",
    "    \n",
    "    from sympy.parsing.sympy_parser import parse_expr\n",
    "\n",
    "    f = data['func']\n",
    "    f = parse_expr(f)\n",
    "   \n",
    "    a = float(data['a'])\n",
    "    b = float(data['b'])\n",
    "    #a,b = symbols('a b')\n",
    "    \n",
    "    start_time = time.time()\n",
    "   \n",
    "    e=0.05\n",
    "    alpha=1.618\n",
    "    x = symbols('x')\n",
    "    n = round(np.log((-a+b)/e)/np.log(alpha))\n",
    "    x1=b-(b-a)/alpha\n",
    "    x2=a+(b-a)/alpha\n",
    "    y1=f.subs(x,x1)\n",
    "    y2=f.subs(x,x2)\n",
    "    for i in range(1,n+1):\n",
    "        \n",
    "        if y1<=y2:\n",
    "            b=x2\n",
    "            x2=x1\n",
    "            x1=b-(b-a)/alpha\n",
    "            y2=y1\n",
    "            y1=f.subs(x,x1)\n",
    "            if abs(b-a)>=e:\n",
    "                i=i+1\n",
    "            elif abs(b-a)<e:\n",
    "                print(f'x={a}')\n",
    "                print(f'y={y1}')\n",
    "                print(f'i(количество итераций цикла)={i}')\n",
    "            \n",
    "            plt.plot(k,'b', label='line one', linewidth=5)  \n",
    "               \n",
    "        elif y1>y2:\n",
    "            a=x1\n",
    "            x1=x2\n",
    "            x2=a+(b-a)/alpha\n",
    "            y1=y2\n",
    "            y2=f.subs(x,x2)\n",
    "            if abs(b-a)>=e:\n",
    "                i=i+1\n",
    "            elif abs(b-a)<e:\n",
    "                print(f'x-точка минимума={a}')\n",
    "                print(f'y-значение функции в точки минимума={y1}')\n",
    "                print(f'i(количество итераций цикла)={i}')"
   ]
  },
  {
   "cell_type": "code",
   "execution_count": null,
   "id": "33de0f91",
   "metadata": {},
   "outputs": [],
   "source": []
  }
 ],
 "metadata": {
  "kernelspec": {
   "display_name": "Python 3 (ipykernel)",
   "language": "python",
   "name": "python3"
  },
  "language_info": {
   "codemirror_mode": {
    "name": "ipython",
    "version": 3
   },
   "file_extension": ".py",
   "mimetype": "text/x-python",
   "name": "python",
   "nbconvert_exporter": "python",
   "pygments_lexer": "ipython3",
   "version": "3.9.7"
  }
 },
 "nbformat": 4,
 "nbformat_minor": 5
}
